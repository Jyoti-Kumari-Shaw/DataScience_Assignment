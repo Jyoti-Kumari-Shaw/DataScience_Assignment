{
 "cells": [
  {
   "cell_type": "raw",
   "id": "24b2b17c-6bf8-48e5-8ff5-fae43bb1d3cd",
   "metadata": {},
   "source": [
    "Q1: What are the Probability Mass Function (PMF) and Probability Density Function (PDF)? Explain with\n",
    "an example.\n",
    "\n",
    "ans:-PMF:-Probability mass function can be defined as the probability that a discrete random variable will be exactly equal to some particular value. In other words, the probability mass function assigns a particular probability to every possible value of a discrete random variable.\n",
    "Suppose a fair coin is tossed twice and the sample space is recorded as S = [HH, HT, TH, TT]. The probability of getting heads needs to be determined. Let X be the random variable that shows how many heads are obtained. X can take on the values 0, 1, 2. The probability that X will be equal to 1 is 0.5. Thus, it can be said that the probability mass function of X evaluated at 1 will be 0.5.\n",
    "\n",
    "PDF:-Probability density function defines the density of the probability that a continuous random variable will lie within a particular range of values. To determine this probability, we integrate the probability density function between two specified points.\n",
    "Say we have a continuous random variable whose probability density function is given by f(x) = x + 2, when 0 < x ≤ 2. We want to find P(0.5 < X < 1). Then we integrate x + 2 within the limits 0.5 and 1. This gives us 1.375. Thus, the probability that the continuous random variable lies between 0.5 and 1 is 1.375."
   ]
  },
  {
   "cell_type": "raw",
   "id": "c6adb065-57ff-48bc-bb6b-60fac8815ae7",
   "metadata": {},
   "source": [
    "Q2: What is Cumulative Density Function (CDF)? Explain with an example. Why CDF is used?\n",
    "ans:- the cdf for a continuous random variable is found by integrating the pdf. Note that the Fundamental Theorem of Calculus implies that the pdf of a continuous random variable can be found by differentiating the cdf. This relationship between the pdf and cdf for a continuous random variable is incredibly useful.\n",
    "Let  X have pdf  f , then the cdf  Fis given by\n",
    "F(x)=P(X≤x)=∫−∞xf(t)dt,for x∈R."
   ]
  },
  {
   "cell_type": "raw",
   "id": "2c46b69a-46e3-45e7-a19c-8234cee35730",
   "metadata": {},
   "source": [
    "Q3: What are some examples of situations where the normal distribution might be used as a model?\n",
    "Explain how the parameters of the normal distribution relate to the shape of the distribution.\n",
    "\n",
    "Ans:-In a normal distribution, data is symmetrically distributed with no skew. When plotted on a graph, the data follows a bell shape, with most values clustering around a central region and tapering off as they go further away from the center.\n",
    "\n",
    "Normal distributions are also called Gaussian distributions or bell curves because of their shape.\n",
    "All kinds of variables in natural and social sciences are normally or approximately normally distributed. Height, birth weight, reading ability, job satisfaction, or SAT scores are just a few examples of such variables.\n",
    "\n",
    "Because normally distributed variables are so common, many statistical tests are designed for normally distributed populations.\n",
    "\n",
    "Normal distributions have key characteristics that are easy to spot in graphs:\n",
    "\n",
    "The mean, median and mode are exactly the same.\n",
    "The distribution is symmetric about the mean—half the values fall below the mean and half above the mean.\n",
    "The distribution can be described by two values: the mean and the standard deviation.\n",
    "About 68% of data falls within one standard deviation of the mean\n",
    "About 95% of data falls within two standard deviations of the mean\n",
    "About 99.7% of data falls within three standard deviations of the mean\n",
    "\n"
   ]
  },
  {
   "cell_type": "raw",
   "id": "6bb50a8c-a5e1-4aa3-87a0-c2990fc62ecb",
   "metadata": {},
   "source": [
    "Q4: Explain the importance of Normal Distribution. Give a few real-life examples of Normal\n",
    "Distribution.\n",
    "\n",
    "Ans:-In a normal distribution, data is symmetrically distributed with no skew. When plotted on a graph, the data follows a bell shape, with most values clustering around a central region and tapering off as they go further away from the center.\n",
    "\n",
    "Normal distributions are also called Gaussian distributions or bell curves because of their shape. All kinds of variables in natural and social sciences are normally or approximately normally distributed. Height, birth weight, reading ability, job satisfaction, or SAT scores are just a few examples of such variables.\n",
    "\n",
    "Because normally distributed variables are so common, many statistical tests are designed for normally distributed populations.\n",
    "Example 1: Birthweight of Babies\n",
    "It’s well-documented that the birthweight of newborn babies is normally distributed with a mean of about 7.5 pounds.\n",
    "Example 2: Height of Males\n",
    "The distribution of the height of males in the U.S. is roughly normally distributed with a mean of 70 inches and a standard deviation of 3 inches"
   ]
  },
  {
   "cell_type": "raw",
   "id": "13bc6f30-7053-4ae5-83b2-5aceb32be408",
   "metadata": {},
   "source": [
    "Q5: What is Bernaulli Distribution? Give an Example. What is the difference between Bernoulli\n",
    "Distribution and Binomial Distribution?\n",
    "\n",
    "Ans:-Bernouli Distribution:-Informally, the distribution of a variable just describes how often you will encounter different outcomes. A random variable that follows the Bernoulli distribution only has two possibly outcomes, so describing it is easy. You simply state the probability p of getting one of the outcomes.\n",
    "\n",
    "Taking this idea a little further, we can talk about a Bernoulli trial. This is where you go through the process of obtaining an actual outcome from a Bernoulli distribution.\n",
    "\n",
    "It might be flipping a coin and seeing which side comes up. It might be asking a person to try to complete a task and seeing if they do or not. Or it might be placing a plant in certain conditions and seeing whether it survives or dies.\n",
    "\n",
    "Binomial Distribution:-The binomial distribution is what happens when you run multiple independent Bernoulli trials with the same p. The result is no longer which of the two Bernoulli outcomes occurs. The random variable from a binomial distribution measures the number of trials that have the outcome you are focusing on.\n",
    "\n",
    "So for example, if you run two Bernoulli trials, the binomial variable could have outcomes of 0, 1, or 2. If you run three Bernoulli trials, the potential binomial outcomes are 0, 1, 2, or 3.\n",
    "\n",
    "If you’re thinking this sounds like a count variable, it is! It’s a count with the important caveat that the count can only be as high as the number of trials.\n",
    "\n",
    "As discussed, the Bernoulli distribution only requires one parameter to describe it completely, p. The binomial distribution needs two. The binomial distribution requires the p for each Bernoulli trial, and the number of trials, n.\n",
    "\n",
    "As an example, consider flipping a coin with a 25% probability of heads. A single toss of the coin has a Bernoulli distribution, with p = 0.25. If you toss the coin three times and record the number of heads, this is now a binomial distribution with p = 0.25 and n = 3. You can use probability rules to determine the probability of 0, 1, 2, or 3 heads.\n"
   ]
  },
  {
   "cell_type": "raw",
   "id": "219f410d-0194-4a56-9110-59b2310b9242",
   "metadata": {},
   "source": [
    "Q6. Consider a dataset with a mean of 50 and a standard deviation of 10. If we assume that the dataset\n",
    "is normally distributed, what is the probability that a randomly selected observation will be greater\n",
    "than 60? Use the appropriate formula and show your calculations.\n",
    "ans:- Zscore=xi-mean/sd\n",
    "            =60-50/10\n",
    "            =1\n",
    "        p(z>1)=1-.8413\n",
    "            =.1587\n",
    "            =15.87%"
   ]
  },
  {
   "cell_type": "raw",
   "id": "c00f387f-b441-4d98-a49b-f09f53070c12",
   "metadata": {},
   "source": [
    "Q7: Explain uniform Distribution with an example.\n",
    "\n",
    "Ans:-In statistics, uniform distribution refers to a type of probability distribution in which all outcomes are equally likely. A deck of cards has within it uniform distributions because the likelihood of drawing a heart, a club, a diamond, or a spade is equally likely. A coin also has a uniform distribution because the probability of getting either heads or tails in a coin toss is the same.\n",
    "There are two types of uniform distributions: discrete and continuous. The possible results of rolling a die provide an example of a discrete uniform distribution: it is possible to roll a 1, 2, 3, 4, 5, or 6, but it is not possible to roll a 2.3, 4.7, or 5.5. Therefore, the roll of a die generates a discrete distribution with p = 1/6 for each outcome. There are only 6 possible values to return and nothing in between.\n",
    "\n",
    "Some uniform distributions are continuous rather than discrete. An idealized random number generator would be considered a continuous uniform distribution. With this type of distribution, every point in the continuous range between 0.0 and 1.0 has an equal opportunity of appearing, yet there is an infinite number of points between 0.0 and 1.0"
   ]
  },
  {
   "cell_type": "raw",
   "id": "c13c385f-2605-475a-907c-37808f01c3de",
   "metadata": {},
   "source": [
    "Q8: What is the z score? State the importance of the z score.\n",
    "\n",
    "Ans:-Z-score is a statistical measurement that describes a value's relationship to the mean of a group of values. Z-score is measured in terms of standard deviations from the mean. If a Z-score is 0, it indicates that the data point's score is identical to the mean score. A Z-score of 1.0 would indicate a value that is one standard deviation from the mean. Z-scores may be positive or negative, with a positive value indicating the score is above the mean and a negative score indicating it is below the mean.\n",
    "\n",
    "The statistical formula for a value's z-score is calculated using the following formula:\n",
    "\n",
    "z = ( x - μ ) / σ\n",
    "Where:\n",
    "\n",
    "z = Z-score\n",
    "x = the value being evaluated\n",
    "μ = the mean\n",
    "σ = the standard deviation"
   ]
  },
  {
   "cell_type": "raw",
   "id": "a47542d6-5e43-4934-b081-ae52701a93d1",
   "metadata": {},
   "source": [
    "Q9: What is Central Limit Theorem? State the significance of the Central Limit Theorem.\n",
    "Ans:-The central limit theorem (CLT) states that the distribution of sample means approximates a normal distribution as the sample size gets larger, regardless of the population's distribution.\n",
    "Sample sizes equal to or greater than 30 are often considered sufficient for the CLT to hold.\n",
    "A key aspect of CLT is that the average of the sample means and standard deviations will equal the population mean and standard deviation.\n",
    "A sufficiently large sample size can predict the characteristics of a population more accurately.\n",
    "CLT is useful in finance when analyzing a large collection of securities to estimate portfolio distributions and traits for returns, risk, and correlation.\n",
    "\n",
    "The central limit theorem is useful when analyzing large data sets because it allows one to assume that the sampling distribution of the mean will be normally-distributed in most cases. This allows for easier statistical analysis and inference. For example, investors can use central limit theorem to aggregate individual security performance data and generate distribution of sample means that represent a larger population distribution for security returns over a period of time.\n"
   ]
  },
  {
   "cell_type": "raw",
   "id": "494669c9-f2a3-418a-859c-b79e2a7e055e",
   "metadata": {},
   "source": [
    "Q10: State the assumptions of the Central Limit Theorem.\n",
    "\n",
    "Ans:-Assumptions of CLT are:-\n",
    "The data must adhere to the randomization rule. It needs to be sampled at random.\n",
    "The samples should be unrelated to one another. One sample should not impact the others.\n",
    "When taking samples without replacement, the sample size should not exceed 10% of the population.\n",
    "When the population is symmetric, a sample size of 30 is generally considered reasonable. "
   ]
  },
  {
   "cell_type": "code",
   "execution_count": null,
   "id": "8eda5c02-e6be-4300-bc6e-3af6c750acc1",
   "metadata": {},
   "outputs": [],
   "source": []
  }
 ],
 "metadata": {
  "kernelspec": {
   "display_name": "Python 3 (ipykernel)",
   "language": "python",
   "name": "python3"
  },
  "language_info": {
   "codemirror_mode": {
    "name": "ipython",
    "version": 3
   },
   "file_extension": ".py",
   "mimetype": "text/x-python",
   "name": "python",
   "nbconvert_exporter": "python",
   "pygments_lexer": "ipython3",
   "version": "3.10.8"
  }
 },
 "nbformat": 4,
 "nbformat_minor": 5
}
