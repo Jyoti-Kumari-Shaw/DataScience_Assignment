{
 "cells": [
  {
   "cell_type": "raw",
   "id": "0d1872cf-28a8-4b86-9bbc-60652108f4f2",
   "metadata": {},
   "source": [
    "Q1. What are the three measures of central tendency?\n",
    "\n",
    "ans:-The central tendency of the dataset can be found out using the three important measures namely mean, median and mode.\n",
    "        \n",
    "Mean:-The mean represents the average value of the dataset. It can be calculated as the sum of all the values in the      dataset divided by the number of values. In general, it is considered as the arithmetic mean.\n",
    "In symmetric data distribution, the mean value is located accurately at the centre. But in the skewed continuous data distribution, the extreme values in the extended tail pull the mean value away from the centre.\n",
    "\n",
    "Median:-Median is the middle value of the dataset in which the dataset is arranged in the ascending order or in descending order. When the dataset contains an even number of values, then the median value of the dataset can be found by taking the mean of the middle two values.\n",
    "If you have skewed distribution, the best measure of finding the central tendency is the median.\n",
    "\n",
    "Mode:-The mode represents the frequently occurring value in the dataset. Sometimes the dataset may contain multiple modes and in some cases, it does not contain any mode at all.\n",
    "If you have categorical data, the mode is the best choice to find the central tendency."
   ]
  },
  {
   "cell_type": "raw",
   "id": "bbf7bb3b-8fb0-4814-87e8-d86533080b60",
   "metadata": {},
   "source": [
    "Q2. What is the difference between the mean, median, and mode? How are they used to measure the\n",
    "central tendency of a dataset?\n",
    "\n",
    "ans:-               Mean                              Median                                Mode\n",
    "----------------------------------------------------------------------------------------------------------------------------\n",
    "1.The average taken for a set of numbers    1.The middle value in the data set is     1.The number that occurs the most in a \n",
    "  is called a mean.                           called the Median.                         given list of numbers is called a\n",
    "                                                                                         mode.\n",
    "____________________________________________________________________________________________________________________________\n",
    "2.Add all of the numbers together anddivide|2.Place all the given numbers in an   |   2.It shows the frequency of occurrence.\n",
    "the sum by the total number of values.     |  ascending order                     |\n",
    "____________________________________________________________________________________________________________________________\n",
    "3.The result is the mean or average score.  3.The next step is to find the middle    3.We can have more than one mode or no \n",
    "                                             number on the list. It is called the      mode at all.\n",
    "                                             median."
   ]
  },
  {
   "cell_type": "raw",
   "id": "f5cf4435-bae1-4ac4-8b5b-28b3a5ffa286",
   "metadata": {},
   "source": [
    "Q3. Measure the three measures of central tendency for the given height data:\n",
    "  *    *  *   *   *    *     *   *     *    *  *       *  *        *  *     *\n",
    "[178,177,176,177,178.2,178,175,179,180,175,178.9,176.2,177,172.5,178,176.5]\n",
    "ans:-\n",
    "Mean= (178+177+176+177+178.2+178+175+179+180+175+178.9+176.2+177+172.5+178+176.5)/16\n",
    "    =177.018\n",
    "    \n",
    "Median:-[172.5,175,175,176,176.2,176.5,177,177,177,178,178,178,178.2,178.9,179,180]\n",
    "            \n",
    "        median=(177+177)/2\n",
    "              =177\n",
    "      \n",
    "      \n",
    "Mode=178 or 177\n",
    "\n"
   ]
  },
  {
   "cell_type": "raw",
   "id": "2d47830f-4519-4d02-b174-ed69c173e3a7",
   "metadata": {},
   "source": [
    "Q4. Find the standard deviation for the given data:\n",
    "[178,177,176,177,178.2,178,175,179,180,175,178.9,176.2,177,172.5,178,176.5]\n",
    "here mean=177\n",
    "\n",
    "ans:-Xi              (Xi-mean)^2\n",
    "    ------------------------------------------------\n",
    "    178              1\n",
    "    177              0\n",
    "    176              1\n",
    "    177              0\n",
    "    178.2            1.44\n",
    "    178              1\n",
    "    175              4\n",
    "    179              4\n",
    "    180              9\n",
    "    175              4\n",
    "    178.9            3.61\n",
    "    176.2            .64\n",
    "    177              0\n",
    "    172.5            20.25\n",
    "    178              1\n",
    "    176.5            0.25\n",
    "---------------------------------------\n",
    "                 total=51.19\n",
    "                 \n",
    "     variene=51.19/16=3.199\n",
    "     standard deviation=1.788"
   ]
  },
  {
   "cell_type": "raw",
   "id": "9cb218f6-f110-44d7-a651-b39efa268855",
   "metadata": {},
   "source": [
    "Q5. How are measures of dispersion such as range, variance, and standard deviation used to describe\n",
    "the spread of a dataset? Provide an example.\n",
    "\n",
    "ans:-The dispersion, which is also called scatter is measured on the basis of the type of chosen central tendency and the observations available to us. These measures tell us how much the observations are varied or similar to each other. There are many ways of measuring the dispersion in the data, some major ways to measure the spread are given below: \n",
    "\n",
    "i.Range \n",
    "ii.Variance \n",
    "iii.Standard Deviation \n",
    "\n",
    "Range:- The range of the data is given as the difference between the maximum and the minimum values of the observations in the data. For example, let’s say we have data on the number of customers walking in the store in a week. \n",
    "10, 14, 8, 10, 15, 4, 7\n",
    "Minimum value in data = 7 \n",
    "Maximum Value in the data = 15\n",
    "Range = Maximum Value in the data – Minimum value in the data  \n",
    "\n",
    "           = 15 – 7 \n",
    "\n",
    "           = 8 \n",
    "\n",
    "Now we can say that the range of the data is 8. This gives us an idea about the spread of the data but doesn’t tell how the data is distributed. \n",
    "\n",
    "Varience:-The variance of the data is given by measuring the distance of the observed values from the mean of the distribution. Here we are not concerned with the sign of the distance of the point, we are more interested in the magnitude. So, we take squares of the distance from the mean. Let’s say we have x1, x2, x3 …. xn as n observations and \\bar{x} be the mean. \n",
    "\n",
    "                                Varience=(sumof((xi-mean)^2))/n\n",
    "                                \n",
    "Standard Deviation:-In the calculation of variance, notice that the units of the variance and the unit of the observations are not the same. So, to remove this problem, we define standard deviation. It is denoted as \\sigma.\n",
    " \n",
    "             std=sqaureroot(varience)\n"
   ]
  },
  {
   "cell_type": "raw",
   "id": "26d03cf4-ff05-4d44-a7bb-03de6e277701",
   "metadata": {},
   "source": [
    "Q6. What is a Venn diagram?\n",
    "\n",
    "ans:-Venn diagrams are the diagrams that are used to represent the sets, relation between the sets and operation performed on them, in a pictorial way. Venn diagram, introduced by John Venn (1834-1883), uses circles (overlapping, intersecting and non-intersecting), to denote the relationship between sets. A Venn diagram is also called a set diagram or a logic diagram showing different set operations such as the intersection of sets, union of sets and difference of sets. It is also used to depict subsets of a set."
   ]
  },
  {
   "cell_type": "raw",
   "id": "1453ba6c-c8f3-4430-9484-fab99a6a9f92",
   "metadata": {},
   "source": [
    "Q7. For the two given sets A = (2,3,4,5,6,7) & B = (0,2,6,8,10). Find:\n",
    "\n",
    "(i) \tA intersection B\n",
    "\n",
    "(ii)\tA ⋃ B\n",
    "\n",
    "ans:- A intersection B:- (2,6)\n",
    "    \n",
    "      A U B:- (0,2,3,4,5,6,7,8,10)"
   ]
  },
  {
   "cell_type": "raw",
   "id": "01f5010f-b7ff-4ee6-b91a-74cb66c21de0",
   "metadata": {},
   "source": [
    "Q8. What do you understand about skewness in data?\n",
    "Ans:- Skewness is a measure of the asymmetry of a distribution. A distribution is asymmetrical when its left and right side are not mirror images.\n",
    "\n"
   ]
  },
  {
   "cell_type": "raw",
   "id": "984dda23-eda8-4ec8-8212-05d9a87c97f1",
   "metadata": {},
   "source": [
    "Q9. If a data is right skewed then what will be the position of median with respect to mean?\n",
    "\n",
    "ans:-The mean of a right-skewed distribution is almost always greater than its median. That’s because extreme values (the values in the tail) affect the mean more than the median."
   ]
  },
  {
   "cell_type": "raw",
   "id": "4261836f-cef5-4c44-b9c3-bf856905462f",
   "metadata": {},
   "source": [
    "Q10. Explain the difference between covariance and correlation. How are these measures used in\n",
    "statistical analysis?\n",
    "\n",
    "ans:-                Covarience                                                    Correlation \n",
    "___________________________________________________________________________________________________________________________________\n",
    "1.Covariance is an indicator of the extent to which 2 random    |  1.Correlation is a statistical measure that indicates how \n",
    "variables are dependent on each other.                          |  strongly two variables are related.\n",
    "A higher number denotes higher dependency.\n",
    "\n",
    "-----------------------------------------------------------------------------------------------------------------------------------\n",
    "2.The value of covariance lies in the range of -∞ and +∞.       | 2.Correlation is limited to values between the range -1 and +1.\n",
    "\n",
    "-----------------------------------------------------------------------------------------------------------------------------------\n",
    "3.Affects covariance.                                           |3.Does not affect the correlation.\n",
    "\n",
    "-----------------------------------------------------------------------------------------------------------------------------------\n",
    "4.It has unit.                                                  |4.It has no unit.\n",
    "-----------------------------------------------------------------------------------------------------------------------------------\n",
    "\n",
    "The following are the most common applications of Covariance:\n",
    "\n",
    "Simulating systems with multiple correlated variables is done using Cholesky decomposition. A covariance matrix helps determine the Cholesky decomposition because it is positive semi-definite. The matrix is decomposed by the product of the lower matrix and its transpose. \n",
    "To reduce the dimensions of large data sets, principal component analysis is used. To perform principal component analysis, an eigen decomposition is applied to the covariance matrix.\n",
    "\n",
    "A correlation matrix is computed for three main reasons:\n",
    "\n",
    "1.The goal when dealing with large amounts of data is to find patterns. As a result, a correlation matrix is used to look for a pattern in the data and determine whether the variables are highly correlated.\n",
    "\n",
    "2.For use in other analyses. When excluding missing values pairwise, correlation matrices are commonly used as inputs for exploratory factor analysis, confirmatory factor analysis, structural equation models, and linear regression.\n",
    "\n",
    "3.When checking other analyses, as a diagnostic. When it comes to linear regression, for example, a large number of correlations indicate that the linear regression estimates will be unreliable.\n",
    "\n"
   ]
  },
  {
   "cell_type": "raw",
   "id": "0dfe09b2-2b1a-4453-b708-0c1c3526d585",
   "metadata": {},
   "source": [
    "Q12. For a normal distribution data what is the relationship between its measure of central tendency?\n",
    "\n",
    "Ans:-For a normal distribution :-\n",
    "   \n",
    "       Mean=Meadian=Mode"
   ]
  },
  {
   "cell_type": "raw",
   "id": "27ca9b02-0d93-45eb-bc6c-05eab9be8860",
   "metadata": {},
   "source": [
    "Q13. How is covariance different from correlation?\n",
    "ans:- Refer to Question No. 10 ans\n"
   ]
  },
  {
   "cell_type": "raw",
   "id": "90f5a09b-4962-4b43-91ac-e8bd1e7e7f17",
   "metadata": {},
   "source": [
    "Q14. How do outliers affect measures of central tendency and dispersion? Provide an example.\n",
    "\n",
    "ans:-When a outlier is present it can effect the shape of the graph, if we have outliers to the right of the graph. These outliers are causing the mean to increase, but if we have outliers to the left of the graph these outliers are dragging down the mean. This causes a conflict because the mean no longer provides a good representation of the data, alternatively we would much rather use the median. The median on the other hand is less likely to be affect by outliers."
   ]
  }
 ],
 "metadata": {
  "kernelspec": {
   "display_name": "Python 3 (ipykernel)",
   "language": "python",
   "name": "python3"
  },
  "language_info": {
   "codemirror_mode": {
    "name": "ipython",
    "version": 3
   },
   "file_extension": ".py",
   "mimetype": "text/x-python",
   "name": "python",
   "nbconvert_exporter": "python",
   "pygments_lexer": "ipython3",
   "version": "3.10.8"
  }
 },
 "nbformat": 4,
 "nbformat_minor": 5
}
