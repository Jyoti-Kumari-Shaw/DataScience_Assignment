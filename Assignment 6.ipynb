{
 "cells": [
  {
   "cell_type": "markdown",
   "id": "3eb21df4-9aff-4cdc-a68a-18639a3cfe81",
   "metadata": {},
   "source": [
    "\"\"\"\n",
    "Q1. What is Abstraction in OOps? Explain with an example\n",
    "\"\"\"\n",
    "ans-\n",
    "\n",
    "Abstraction-Abstraction in python is defined as a process of handling complexity by hiding unnecessary information from the user. \n",
    "            This is one of the core concepts of object-oriented programming (OOP) languages. \n",
    "            That enables the user to implement even more complex logic on top of the provided abstraction without understanding or even thinking about all the hidden background/back-end complexity.\n",
    "            For example as we all use the social platforms and contact our friends, chat, share images etc.,\n",
    "            but we don’t know how these operations are happening in the background\n"
   ]
  },
  {
   "cell_type": "markdown",
   "id": "87d2d338-0afe-48e2-be58-a89912802162",
   "metadata": {},
   "source": [
    "\"\"\"\n",
    "Q2. Differentiate between Abstraction and Encapsulation. Explain with an example.\n",
    "\n",
    "\"\"\"\n",
    "Ans-\n",
    "\n",
    "Abstraction is defined as a process of hiding the implementation details of a system from the user. Thus, by using abstraction, we provided only the functionality of the system to the user. Consequently, the user will have information on what the system does, but not on how the system does it.\n",
    "\n",
    "For example, when we consider the case of a search on google, complex details such as what happens as soon as we search about a query, the protocol our web server uses are hidden. Therefore, to make a search on google we just need to type the query, and click on the search button.\n",
    "\n",
    "Encapsulation is one of the fundamental OOP concepts. Encapsulation is defined as a method by which data wrapping is done into a single unit. It is used in wrapping up the data and the code acting on the data together as a single unit.\n",
    "\n",
    "In encapsulation, the variables of a class are hidden from other classes, and can be accessed only by methods of the current class. Therefore, encapsulation is also called data hiding. Encapsulation is implemented using access modifiers like public, private and protected."
   ]
  },
  {
   "cell_type": "markdown",
   "id": "d699f580-b799-4afb-8ac3-9ea5fe896b56",
   "metadata": {},
   "source": [
    "\"\"\"\n",
    "Q3. What is abc module in python? Why is it used?\n",
    "\"\"\"\n",
    "Ans-\n",
    "\n",
    "The main goal of the abstract base class is to provide a standardized way to test whether an object adheres to a given specification.\n",
    "It can also prevent any attempt to instantiate a subclass that doesn’t override a particular method in the superclass.\n",
    "And finally, using an abstract class, a class can derive identity from another class without any object inheritance.\n",
    "\n",
    "Python has a module called abc (abstract base class) that offers the necessary tools for crafting an abstract base class.\n",
    "First and foremost, you should understand the ABCMeta metaclass provided by the abstract base class. \n",
    "The rule is every abstract class must use ABCMeta metaclass.\n"
   ]
  },
  {
   "cell_type": "markdown",
   "id": "d5c98856-0158-43c6-90ec-54000831c671",
   "metadata": {},
   "source": [
    "\"\"\"\n",
    "Q4. How can we achieve data abstraction?\n",
    "\"\"\"\n",
    "\n",
    "Ans-\n",
    "\n",
    "An abstract method is a method that is declared, but does not contain implementation. \n",
    "An abstract method in a base class identifies the functionality that should be implemented by all its subclasses.\n",
    "However, since the implementation of an abstract method would differ from one subclass to another, often the method body comprises just a pass statement.\n",
    "Every subclass of the base class will ride this method with its implementation. \n",
    "A class containing abstract methods is called abstract class.\n",
    "Python provides the abc module to use the abstraction in the Python program, syntax as:\n",
    "\n",
    "example-\n",
    "\n",
    "from abc import ABC,   \n",
    "class ClassName(ABC):\n"
   ]
  },
  {
   "cell_type": "markdown",
   "id": "f203c545-8ed5-430e-bab2-a73c6ab70fe4",
   "metadata": {},
   "source": [
    "\"\"\"\n",
    "5. Can we create an instance of an abstract class? Explain your answer\n",
    "\"\"\"\n",
    "\n",
    "Ans-\n",
    "\n",
    "We cannot create an abstract class in Python directly. \n",
    "However, Python does provide a module that allows us to define abstract classes. \n",
    "The module we can use to create an abstract class in Python is abc(abstract base class) module.\n",
    "Abstract methods force the child classes to give the implementation of these methods in them and thus help us achieve abstraction as each subclass can give its own implementation. \n",
    "A class containing one or more than one abstract method is called an abstract class.\n",
    "\n"
   ]
  },
  {
   "cell_type": "code",
   "execution_count": null,
   "id": "1fd543b1-de39-4a70-88da-9fdd82518b89",
   "metadata": {},
   "outputs": [],
   "source": []
  }
 ],
 "metadata": {
  "kernelspec": {
   "display_name": "Python 3 (ipykernel)",
   "language": "python",
   "name": "python3"
  },
  "language_info": {
   "codemirror_mode": {
    "name": "ipython",
    "version": 3
   },
   "file_extension": ".py",
   "mimetype": "text/x-python",
   "name": "python",
   "nbconvert_exporter": "python",
   "pygments_lexer": "ipython3",
   "version": "3.10.8"
  }
 },
 "nbformat": 4,
 "nbformat_minor": 5
}
