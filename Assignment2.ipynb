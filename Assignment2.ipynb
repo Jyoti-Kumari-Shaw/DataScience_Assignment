{
 "cells": [
  {
   "cell_type": "code",
   "execution_count": 1,
   "id": "d8fbbbd1-43cf-4a10-9f2c-6e2628efc43c",
   "metadata": {},
   "outputs": [
    {
     "data": {
      "text/plain": [
       "'\\nDocstrings -Python provides an in-built feature called docstrings for commenting on modules,methods ,functions,objects and classes.\\n            They are written in the first line after defining a module ,function,method ,etc.Using three quotation marks(\" or \"\")\\n'"
      ]
     },
     "execution_count": 1,
     "metadata": {},
     "output_type": "execute_result"
    }
   ],
   "source": [
    "#1. How do you comment code in Python? What are the different types of comments?\n",
    "\n",
    "'''\n",
    "there are three types of comment in python\n",
    "'''\n",
    "'''\n",
    "Single Line Comment-Single line comment begins with '#' character.Anything that is written in a single line after '#' is \n",
    "                    considered as a comment.\n",
    "                    eg-#Single line commnet\n",
    "'''\n",
    "'''\n",
    "Multi Line Comment- Python does not provide the option for multiline comments .However ,there are different ways through which we \n",
    "                    can write multiline comments.Use # each line to write multiline comment or use \" three times to write multiline\n",
    "                    comments.\n",
    "                    \n",
    "'''\n",
    "'''\n",
    "Docstrings -Python provides an in-built feature called docstrings for commenting on modules,methods ,functions,objects and classes.\n",
    "            They are written in the first line after defining a module ,function,method ,etc.Using three quotation marks(\" or \"\")\n",
    "'''"
   ]
  },
  {
   "cell_type": "code",
   "execution_count": 2,
   "id": "16a6dfe8-bf71-40b9-9e91-d9450282136d",
   "metadata": {},
   "outputs": [
    {
     "name": "stdout",
     "output_type": "stream",
     "text": [
      "<class 'int'>\n",
      "<class 'float'>\n",
      "<class 'str'>\n",
      "<class 'bool'>\n"
     ]
    }
   ],
   "source": [
    "''' #2. What are variables in Python? How do you declare and assign values to variables?'''\n",
    "\n",
    "'''\n",
    "A variable is string of characters and numbers associated with a piece of information.The assignment operator ,denoted by the \"=\"\n",
    "symbol,is the operator that is used to assign values to variables in Python.\n",
    "example-\n",
    "'''\n",
    "a=5\n",
    "b=45.89\n",
    "c=\"jyoti\"\n",
    "d=True\n",
    "print(type(a))\n",
    "print(type(b))\n",
    "print(type(c))\n",
    "print(type(d))"
   ]
  },
  {
   "cell_type": "markdown",
   "id": "9a79f993-e730-4060-a553-f83cd24a24b1",
   "metadata": {},
   "source": [
    "#3. How do you convert one data type to another in Python?\n",
    "ans-There can be two types of type conversion in Python-\n",
    "    1.Implicit type conversion\n",
    "    2.Explicit type conversion\n",
    "    \n",
    "    1.Implicit type conversion- It is a type of type conversion in which handles automatically convert one data type to another without any                                 user involment.ex-\n",
    "                                a=5\n",
    "                                b=1.0\n",
    "                                c=a//b\n",
    "                                \n",
    "    2.Explicit type conversion- in Explicit type conversion,user involvement is required .The user converts one data type to another\n",
    "                                according to his own need.This can be done with the help of str(),int(),float() etc functions.\n",
    "                                ex-\n",
    "                                a=5\n",
    "                                s=str(a)\n",
    "    "
   ]
  },
  {
   "cell_type": "raw",
   "id": "84ec0a95-ffd9-446f-8fd3-f95696130c70",
   "metadata": {},
   "source": [
    "#4. How do you write and execute a Python script from the command line?\n",
    "ans-To run a Python script store in a '.py' file in command line, we have to write 'python' keyword before the file name \n",
    "    in the command prompt.\n",
    "    ex- python hello.py\n",
    "    "
   ]
  },
  {
   "cell_type": "code",
   "execution_count": 3,
   "id": "473cb6c2-a216-4711-9aca-995cfc7b1328",
   "metadata": {},
   "outputs": [
    {
     "data": {
      "text/plain": [
       "[2, 3]"
      ]
     },
     "execution_count": 3,
     "metadata": {},
     "output_type": "execute_result"
    }
   ],
   "source": [
    "#Q5. Given a list my_list = [1, 2, 3, 4, 5], write the code to slice the list and obtain the sub-list [2, 3].\n",
    "my_list=[1,2,3,4,5]\n",
    "my_list[1:3]"
   ]
  },
  {
   "cell_type": "code",
   "execution_count": 4,
   "id": "7ab4a902-7466-4f28-ab05-d8a7501fc7ff",
   "metadata": {},
   "outputs": [
    {
     "data": {
      "text/plain": [
       "complex"
      ]
     },
     "execution_count": 4,
     "metadata": {},
     "output_type": "execute_result"
    }
   ],
   "source": [
    "#6. What is a complex number in mathematics, and how is it represented in Python?\n",
    "cplx_num=2+5j\n",
    "type(cplx_num)"
   ]
  },
  {
   "cell_type": "code",
   "execution_count": 5,
   "id": "9a4e7fae-f0ee-40dc-a036-3c42141ea538",
   "metadata": {},
   "outputs": [],
   "source": [
    "#7. What is the correct way to declare a variable named age and assign the value 25 to it?\n",
    "\n",
    "age=25"
   ]
  },
  {
   "cell_type": "code",
   "execution_count": 6,
   "id": "da1277ef-8f67-4b88-8f97-9428f6914bc3",
   "metadata": {},
   "outputs": [
    {
     "data": {
      "text/plain": [
       "float"
      ]
     },
     "execution_count": 6,
     "metadata": {},
     "output_type": "execute_result"
    }
   ],
   "source": [
    "#Q8. Declare a variable named price and assign the value 9.99 to it. What data type does this variable belong to?\n",
    "\n",
    "price =9.99\n",
    "type(price)"
   ]
  },
  {
   "cell_type": "code",
   "execution_count": 7,
   "id": "a18e7910-316a-4b13-a923-5aac28638ee2",
   "metadata": {},
   "outputs": [
    {
     "name": "stdout",
     "output_type": "stream",
     "text": [
      "Jyoti Kumari Shaw\n"
     ]
    }
   ],
   "source": [
    "#Q9. Create a variable named name and assign your full name to it as a string. How would you print the value of this variable?\n",
    "\n",
    "name=\"Jyoti Kumari Shaw\"\n",
    "print(name)"
   ]
  },
  {
   "cell_type": "code",
   "execution_count": 9,
   "id": "873e1f26-d30e-4abb-b270-37d1b4fbd82c",
   "metadata": {},
   "outputs": [
    {
     "data": {
      "text/plain": [
       "'World'"
      ]
     },
     "execution_count": 9,
     "metadata": {},
     "output_type": "execute_result"
    }
   ],
   "source": [
    "#10. Given the string \"Hello, World!\", extract the substring \"World\".\n",
    "\n",
    "s=\"Hello World!\"\n",
    "s[-6:-1]"
   ]
  },
  {
   "cell_type": "code",
   "execution_count": 11,
   "id": "804fbf8f-75d0-40f6-b6f1-134084d6fba9",
   "metadata": {},
   "outputs": [
    {
     "name": "stdout",
     "output_type": "stream",
     "text": [
      "Currently Student:  True\n"
     ]
    }
   ],
   "source": [
    "#11. Create a variable named \"is_student\" and assign it a boolean value indicating whether you are currently a student or not.\n",
    "\n",
    "is_student =True\n",
    "print(\"Currently Student: \",is_student)"
   ]
  },
  {
   "cell_type": "code",
   "execution_count": null,
   "id": "ae1aba7a-ec45-40c2-9664-6549159b2cf7",
   "metadata": {},
   "outputs": [],
   "source": []
  }
 ],
 "metadata": {
  "kernelspec": {
   "display_name": "Python 3 (ipykernel)",
   "language": "python",
   "name": "python3"
  },
  "language_info": {
   "codemirror_mode": {
    "name": "ipython",
    "version": 3
   },
   "file_extension": ".py",
   "mimetype": "text/x-python",
   "name": "python",
   "nbconvert_exporter": "python",
   "pygments_lexer": "ipython3",
   "version": "3.10.8"
  }
 },
 "nbformat": 4,
 "nbformat_minor": 5
}
