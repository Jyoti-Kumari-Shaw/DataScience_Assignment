{
 "cells": [
  {
   "cell_type": "code",
   "execution_count": 3,
   "id": "dd0f66e6-93cd-452c-ab8e-7235994c84d5",
   "metadata": {},
   "outputs": [],
   "source": [
    "import numpy as np\n",
    "list_ = [  '1','2','3','4','5']\n",
    "array_list = np.array(object = list_)"
   ]
  },
  {
   "cell_type": "code",
   "execution_count": 13,
   "id": "a688db2b-1404-456f-b854-5de91d767c01",
   "metadata": {},
   "outputs": [
    {
     "name": "stdout",
     "output_type": "stream",
     "text": [
      "<class 'list'>\n",
      "<class 'numpy.ndarray'>\n"
     ]
    }
   ],
   "source": [
    "'''Q1. Is there any difference in the data type of variables list_ and array_list? If there is then write a code\n",
    "to print the data types of both the variables.'''\n",
    "#ans-Data Type of  Variables list_ and array_list are different \n",
    "#Code-\n",
    "\n",
    "print(type(list_))\n",
    "print(type(array_list))"
   ]
  },
  {
   "cell_type": "code",
   "execution_count": 20,
   "id": "884aa39d-fae4-4ffd-bc59-e211d3288306",
   "metadata": {},
   "outputs": [
    {
     "name": "stdout",
     "output_type": "stream",
     "text": [
      "Data Type of each element of list_:\n",
      "\n",
      "<class 'str'>\n",
      "<class 'str'>\n",
      "<class 'str'>\n",
      "<class 'str'>\n",
      "<class 'str'>\n",
      "Data Type of each element of array_list:\n",
      "\n",
      "<class 'numpy.str_'>\n",
      "<class 'numpy.str_'>\n",
      "<class 'numpy.str_'>\n",
      "<class 'numpy.str_'>\n",
      "<class 'numpy.str_'>\n"
     ]
    }
   ],
   "source": [
    "'''\n",
    "Q2. Write a code to print the data type of each and every element of both the variables list_ and\n",
    "arra_list.\n",
    "'''\n",
    "print(\"Data Type of each element of list_:\\n\")\n",
    "for num in list_:\n",
    "    print(type(num))\n",
    "\n",
    "print(\"Data Type of each element of array_list:\\n\")\n",
    "for num2 in array_list:\n",
    "    print(type(num2))\n",
    " "
   ]
  },
  {
   "cell_type": "code",
   "execution_count": 21,
   "id": "b4e51c42-a709-49fb-b0b4-01f80f9d01ee",
   "metadata": {},
   "outputs": [
    {
     "name": "stdout",
     "output_type": "stream",
     "text": [
      "Data Type of each element of list_:\n",
      "\n",
      "<class 'str'>\n",
      "<class 'str'>\n",
      "<class 'str'>\n",
      "<class 'str'>\n",
      "<class 'str'>\n",
      "Data Type of each element of array_list:\n",
      "\n",
      "<class 'numpy.int64'>\n",
      "<class 'numpy.int64'>\n",
      "<class 'numpy.int64'>\n",
      "<class 'numpy.int64'>\n",
      "<class 'numpy.int64'>\n"
     ]
    }
   ],
   "source": [
    "'''\n",
    "Q3. Considering the following changes in the variable, array_list:\n",
    "array_list = np.array(object = list_, dtype = int)\n",
    "Will there be any difference in the data type of the elements present in both the variables, list_ and\n",
    "arra_list? If so then print the data types of each and every element present in both the variables, list_\n",
    "and arra_list.\n",
    "'''\n",
    "array_list = np.array(object = list_, dtype = int)\n",
    "print(\"Data Type of each element of list_:\\n\")\n",
    "for num in list_:\n",
    "    print(type(num))\n",
    "\n",
    "print(\"Data Type of each element of array_list:\\n\")\n",
    "for num2 in array_list:\n",
    "    print(type(num2))"
   ]
  },
  {
   "cell_type": "code",
   "execution_count": 22,
   "id": "c2268ca2-d25e-45c7-b163-855c31392915",
   "metadata": {},
   "outputs": [],
   "source": [
    "import numpy as np\n",
    "num_list = [ [ 1 , 2 , 3 ] , [ 4 , 5 , 6 ] ]\n",
    "num_array = np.array(object = num_list)"
   ]
  },
  {
   "cell_type": "code",
   "execution_count": 24,
   "id": "7d6d17c7-d961-43b1-b005-aca9330e65f7",
   "metadata": {},
   "outputs": [
    {
     "name": "stdout",
     "output_type": "stream",
     "text": [
      "Shape Of num_array:  (2, 3)\n",
      "Size of num_array:  6\n"
     ]
    }
   ],
   "source": [
    "'''\n",
    "Q4. Write a code to find the following characteristics of variable, num_array:\n",
    "(i) shape\n",
    "(ii) size\n",
    "'''\n",
    "#code\n",
    "print(\"Shape Of num_array: \",np.shape(num_array))\n",
    "print(\"Size of num_array: \",np.size(num_array))"
   ]
  },
  {
   "cell_type": "code",
   "execution_count": 25,
   "id": "f267700d-26c7-4a00-ad15-da1e5f90d775",
   "metadata": {},
   "outputs": [
    {
     "data": {
      "text/plain": [
       "array([[0., 0., 0.],\n",
       "       [0., 0., 0.],\n",
       "       [0., 0., 0.]])"
      ]
     },
     "execution_count": 25,
     "metadata": {},
     "output_type": "execute_result"
    }
   ],
   "source": [
    "'''\n",
    "Q5. Write a code to create numpy array of 3*3 matrix containing zeros only, using a numpy array\n",
    "creation function.\n",
    "'''\n",
    "np.zeros((3,3))"
   ]
  },
  {
   "cell_type": "code",
   "execution_count": null,
   "id": "9bdb99d5-c613-40d7-805b-ece97bedbc10",
   "metadata": {},
   "outputs": [],
   "source": [
    "'''\n",
    "Q6. Create an identity matrix of shape (5,5) using numpy functions?\n",
    "'''"
   ]
  }
 ],
 "metadata": {
  "kernelspec": {
   "display_name": "Python 3 (ipykernel)",
   "language": "python",
   "name": "python3"
  },
  "language_info": {
   "codemirror_mode": {
    "name": "ipython",
    "version": 3
   },
   "file_extension": ".py",
   "mimetype": "text/x-python",
   "name": "python",
   "nbconvert_exporter": "python",
   "pygments_lexer": "ipython3",
   "version": "3.10.8"
  }
 },
 "nbformat": 4,
 "nbformat_minor": 5
}
