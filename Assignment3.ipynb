{
 "cells": [
  {
   "cell_type": "code",
   "execution_count": 4,
   "id": "491e0e12-0d8a-4020-84c7-7e403c7d2c99",
   "metadata": {},
   "outputs": [],
   "source": [
    "''''\n",
    "1. Which keyword is used to create a function? Create a function to return a list of odd numbers in the \n",
    "range of 1 to 25\n",
    "\n",
    "ans- 'def' keyword is used to create a function in python\n",
    "'''\n",
    "l=[]\n",
    "def oddNumList():\n",
    "    for i in range(1,26):\n",
    "        if i%2==0:\n",
    "            l.append(i)\n",
    "            \n",
    "    return l"
   ]
  },
  {
   "cell_type": "code",
   "execution_count": 5,
   "id": "a7654bae-0425-4c7b-afbf-e0e51e890a45",
   "metadata": {},
   "outputs": [
    {
     "data": {
      "text/plain": [
       "[2, 4, 6, 8, 10, 12, 14, 16, 18, 20, 22, 24]"
      ]
     },
     "execution_count": 5,
     "metadata": {},
     "output_type": "execute_result"
    }
   ],
   "source": [
    "oddNumList()"
   ]
  },
  {
   "cell_type": "code",
   "execution_count": 8,
   "id": "5165e5e6-2151-464f-8670-64fc6ee36fa9",
   "metadata": {},
   "outputs": [
    {
     "data": {
      "text/plain": [
       "(3, 7, 8, 9, 2, 1)"
      ]
     },
     "execution_count": 8,
     "metadata": {},
     "output_type": "execute_result"
    }
   ],
   "source": [
    "'''\n",
    "Q2. Why *args and **kwargs is used in some functions? Create a function each for *args and **kwargs \n",
    "to demonstrate their use.\n",
    "\n",
    "ans- *args is used to take multiple data as input in function parameter and *kwargs is used to take number of key-value pair\n",
    "      as input in function parameter.\n",
    "'''\n",
    "def test1(*args):\n",
    "    return args\n",
    "test1(3,7,8,9,2,1)\n"
   ]
  },
  {
   "cell_type": "code",
   "execution_count": 9,
   "id": "d8bc578c-f7ed-4647-8bdc-b990f5704fbc",
   "metadata": {},
   "outputs": [
    {
     "data": {
      "text/plain": [
       "{'a': [1, 2, 3], 'b': ('name', 'roll'), 'c': 12.56}"
      ]
     },
     "execution_count": 9,
     "metadata": {},
     "output_type": "execute_result"
    }
   ],
   "source": [
    "def test2(**kwargs):\n",
    "    return kwargs\n",
    "test2(a=[1,2,3],b=(\"name\",\"roll\"),c=12.56)"
   ]
  },
  {
   "cell_type": "code",
   "execution_count": 13,
   "id": "a485398e-f776-4e77-91c5-325c148b0467",
   "metadata": {},
   "outputs": [
    {
     "data": {
      "text/plain": [
       "2"
      ]
     },
     "execution_count": 13,
     "metadata": {},
     "output_type": "execute_result"
    }
   ],
   "source": [
    "'''\n",
    "Q3.  What is an iterator in python? Name the method used to initialise the iterator object and the method \n",
    "used for iteration. Use these methods to print the first five elements of the given list [2, 4, 6, 8, 10, 12, 14, \n",
    "16, 18, 20].\n",
    "\n",
    "ans- An iterator is an object that allows you to iterate over collections of data ,such as lists ,tuples,dictionaries and sets.\n",
    "\n",
    "     'iter()' keyword is used to initialiese the iterator object and the method used for iteration is next().\n",
    "'''\n",
    "l=[2,4,6,8,10,14,16,18,20]\n",
    "l=iter(l)\n",
    "next(l)\n"
   ]
  },
  {
   "cell_type": "code",
   "execution_count": 14,
   "id": "75c2f1c9-c073-49ce-ac5b-94ed1aa85b11",
   "metadata": {},
   "outputs": [
    {
     "data": {
      "text/plain": [
       "4"
      ]
     },
     "execution_count": 14,
     "metadata": {},
     "output_type": "execute_result"
    }
   ],
   "source": [
    "next(l)"
   ]
  },
  {
   "cell_type": "code",
   "execution_count": 15,
   "id": "f920d3e6-55d5-4eaa-a8f9-5db171e2f4b8",
   "metadata": {},
   "outputs": [
    {
     "data": {
      "text/plain": [
       "6"
      ]
     },
     "execution_count": 15,
     "metadata": {},
     "output_type": "execute_result"
    }
   ],
   "source": [
    "next(l)"
   ]
  },
  {
   "cell_type": "code",
   "execution_count": 16,
   "id": "694e2e1d-9aeb-430d-8c6c-1154a5538d0c",
   "metadata": {},
   "outputs": [
    {
     "data": {
      "text/plain": [
       "8"
      ]
     },
     "execution_count": 16,
     "metadata": {},
     "output_type": "execute_result"
    }
   ],
   "source": [
    "next(l)"
   ]
  },
  {
   "cell_type": "code",
   "execution_count": 17,
   "id": "5f17f04f-574a-420f-a9da-d2847338cc84",
   "metadata": {},
   "outputs": [
    {
     "data": {
      "text/plain": [
       "10"
      ]
     },
     "execution_count": 17,
     "metadata": {},
     "output_type": "execute_result"
    }
   ],
   "source": [
    "next(l)"
   ]
  },
  {
   "cell_type": "code",
   "execution_count": 18,
   "id": "bf012667-d590-42e3-b488-598340190cd3",
   "metadata": {},
   "outputs": [],
   "source": [
    "#4.  What is a generator function in python? Why yield keyword is used? Give an example of a generator function.\n",
    "'''\n",
    "ans- A generator is a function that produces a sequence of values when iterated over.Generators are useful when \n",
    "     we want to produce a large sequence of values,but we don't want to store all of them in memory at once.\n",
    "     The 'yield' keyword in python controls the flow of generator function.\n",
    "'''\n",
    "def num_generator(n):\n",
    "    count=0\n",
    "    for i in range(n):\n",
    "        yield count\n",
    "        count=count+1\n",
    "        "
   ]
  },
  {
   "cell_type": "code",
   "execution_count": 27,
   "id": "1fba2324-539b-4620-a484-d65ac3e39269",
   "metadata": {},
   "outputs": [],
   "source": [
    "obj=num_generator(10)\n"
   ]
  },
  {
   "cell_type": "code",
   "execution_count": 29,
   "id": "167b09ac-3818-4a6b-86e9-02b5df43e8e0",
   "metadata": {},
   "outputs": [
    {
     "name": "stdout",
     "output_type": "stream",
     "text": [
      "1\n",
      "2\n",
      "3\n",
      "4\n",
      "5\n",
      "6\n",
      "7\n",
      "8\n",
      "9\n"
     ]
    }
   ],
   "source": [
    "for i in obj:\n",
    "    print(i)"
   ]
  },
  {
   "cell_type": "code",
   "execution_count": 18,
   "id": "18b55456-3c4c-4161-9da7-84e230688dc9",
   "metadata": {},
   "outputs": [],
   "source": [
    "'''\n",
    "5. Create a generator function for prime numbers less than 1000. Use the next() method to print the \n",
    "first 20 prime numbers.\n",
    "'''\n",
    "\n",
    "def prime(n):\n",
    "     for j in range(2,int(n/2)+1):\n",
    "        if n%j==0: break\n",
    "        else:\n",
    "            yield i"
   ]
  },
  {
   "cell_type": "code",
   "execution_count": 20,
   "id": "b517330d-2d94-41cd-9176-f8a3e49479ad",
   "metadata": {},
   "outputs": [
    {
     "ename": "StopIteration",
     "evalue": "",
     "output_type": "error",
     "traceback": [
      "\u001b[0;31m---------------------------------------------------------------------------\u001b[0m",
      "\u001b[0;31mStopIteration\u001b[0m                             Traceback (most recent call last)",
      "Cell \u001b[0;32mIn[20], line 3\u001b[0m\n\u001b[1;32m      1\u001b[0m \u001b[38;5;28;01mfor\u001b[39;00m i \u001b[38;5;129;01min\u001b[39;00m \u001b[38;5;28mrange\u001b[39m(\u001b[38;5;241m1\u001b[39m,\u001b[38;5;241m21\u001b[39m):\n\u001b[1;32m      2\u001b[0m     obj1\u001b[38;5;241m=\u001b[39mprime(i)\n\u001b[0;32m----> 3\u001b[0m     \u001b[38;5;28;43mnext\u001b[39;49m\u001b[43m(\u001b[49m\u001b[43mobj1\u001b[49m\u001b[43m)\u001b[49m\n",
      "\u001b[0;31mStopIteration\u001b[0m: "
     ]
    }
   ],
   "source": [
    "for i in range(1,21):\n",
    "    obj1=prime(i)\n",
    "    next(obj1)"
   ]
  },
  {
   "cell_type": "code",
   "execution_count": 22,
   "id": "137b721a-2e52-436f-bf60-b8f0d1ccf969",
   "metadata": {},
   "outputs": [],
   "source": [
    "#6. Write a python program to print the first 10 Fibonacci numbers using a while loop.\n",
    "def fibbo():\n",
    "    a,b=0,1\n",
    "    while True:\n",
    "        yield a\n",
    "        a,b=b,a+b\n",
    "    "
   ]
  },
  {
   "cell_type": "code",
   "execution_count": 23,
   "id": "014cb8f3-05a3-4d77-a80b-e71fd89225cf",
   "metadata": {},
   "outputs": [],
   "source": [
    "obj2=fibbo()"
   ]
  },
  {
   "cell_type": "code",
   "execution_count": 25,
   "id": "d209b9be-d531-4706-9877-b9ce230d3250",
   "metadata": {},
   "outputs": [
    {
     "name": "stdout",
     "output_type": "stream",
     "text": [
      "0\n",
      "1\n",
      "1\n",
      "2\n",
      "3\n",
      "5\n",
      "8\n",
      "13\n",
      "21\n",
      "34\n"
     ]
    }
   ],
   "source": [
    "for i in range(10):\n",
    "    print(next(obj2))"
   ]
  },
  {
   "cell_type": "code",
   "execution_count": 1,
   "id": "3c1ff7a6-122f-42ee-9da3-4249185593b9",
   "metadata": {},
   "outputs": [
    {
     "name": "stdout",
     "output_type": "stream",
     "text": [
      "['p', 'w', 's', 'k', 'i', 'l', 'l', 's']\n"
     ]
    }
   ],
   "source": [
    "'''\n",
    "7. Write a List Comprehension to iterate through the given string: ‘pwskills’.\n",
    "\n",
    "Expected output: ['p', 'w', 's', 'k', 'i', 'l', 'l', 's'] \n",
    "'''\n",
    "s='pwskills'\n",
    "l=[]\n",
    "for i in s:\n",
    "    l.append(i)\n",
    "print(l)"
   ]
  },
  {
   "cell_type": "code",
   "execution_count": 11,
   "id": "987cabcb-c27b-4295-abe7-b8a601d4a036",
   "metadata": {},
   "outputs": [
    {
     "name": "stdin",
     "output_type": "stream",
     "text": [
      "Enter a number:  121\n"
     ]
    },
    {
     "name": "stdout",
     "output_type": "stream",
     "text": [
      "121\n",
      "121 is palindrome\n"
     ]
    }
   ],
   "source": [
    "'''\n",
    "8. Write a python program to check whether a given number is Palindrome or not using a while loop.\n",
    "'''\n",
    "n=int(input(\"Enter a number: \"))\n",
    "temp=n\n",
    "rev=0\n",
    "while (n>0):\n",
    "    rem=n%10\n",
    "    rev=rev*10+rem\n",
    "    n=n//10\n",
    "print(rev)   \n",
    "if(temp==rev):\n",
    "    print(temp,\"is palindrome\")\n",
    "else:\n",
    "    print(temp,\"is not palindrome\")\n"
   ]
  },
  {
   "cell_type": "code",
   "execution_count": 16,
   "id": "7990730f-96b3-4a3e-89e2-3375024da4b2",
   "metadata": {},
   "outputs": [
    {
     "data": {
      "text/plain": [
       "[1,\n",
       " 3,\n",
       " 5,\n",
       " 7,\n",
       " 9,\n",
       " 11,\n",
       " 13,\n",
       " 15,\n",
       " 17,\n",
       " 19,\n",
       " 21,\n",
       " 23,\n",
       " 25,\n",
       " 27,\n",
       " 29,\n",
       " 31,\n",
       " 33,\n",
       " 35,\n",
       " 37,\n",
       " 39,\n",
       " 41,\n",
       " 43,\n",
       " 45,\n",
       " 47,\n",
       " 49,\n",
       " 51,\n",
       " 53,\n",
       " 55,\n",
       " 57,\n",
       " 59,\n",
       " 61,\n",
       " 63,\n",
       " 65,\n",
       " 67,\n",
       " 69,\n",
       " 71,\n",
       " 73,\n",
       " 75,\n",
       " 77,\n",
       " 79,\n",
       " 81,\n",
       " 83,\n",
       " 85,\n",
       " 87,\n",
       " 89,\n",
       " 91,\n",
       " 93,\n",
       " 95,\n",
       " 97,\n",
       " 99]"
      ]
     },
     "execution_count": 16,
     "metadata": {},
     "output_type": "execute_result"
    }
   ],
   "source": [
    "'''\n",
    "Q9. Write a code to print odd numbers from 1 to 100 using list comprehension.\n",
    "'''\n",
    "l=[]\n",
    "for i in range(1,101):\n",
    "    l.append(i)\n",
    "    \n",
    "list(filter(lambda x:x%2!=0,l))\n"
   ]
  },
  {
   "cell_type": "code",
   "execution_count": null,
   "id": "c279ce5a-2d37-42a2-b34b-9430135f87da",
   "metadata": {},
   "outputs": [],
   "source": []
  }
 ],
 "metadata": {
  "kernelspec": {
   "display_name": "Python 3 (ipykernel)",
   "language": "python",
   "name": "python3"
  },
  "language_info": {
   "codemirror_mode": {
    "name": "ipython",
    "version": 3
   },
   "file_extension": ".py",
   "mimetype": "text/x-python",
   "name": "python",
   "nbconvert_exporter": "python",
   "pygments_lexer": "ipython3",
   "version": "3.10.8"
  }
 },
 "nbformat": 4,
 "nbformat_minor": 5
}
