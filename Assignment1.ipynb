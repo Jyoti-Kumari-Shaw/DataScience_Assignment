{
 "cells": [
  {
   "cell_type": "code",
   "execution_count": 1,
   "id": "ac63009a-5f88-497a-af7d-ba71454c8901",
   "metadata": {},
   "outputs": [],
   "source": [
    "\"\"\"\n",
    "Q1. Create one variable containing following type of data:\n",
    "\n",
    "(i)\tstring\n",
    "\n",
    "(ii)\tlist\n",
    "\n",
    "(iii)\tfloat\n",
    "\n",
    "(iv)\ttuple\n",
    "\"\"\"\n",
    "name=\"Jyoti\"\n",
    "l=[1,2,3,4]\n",
    "height=7.65\n",
    "t=(4,5,6)"
   ]
  },
  {
   "cell_type": "code",
   "execution_count": 5,
   "id": "ee947c9b-4323-4146-8de8-8c725c0228d4",
   "metadata": {},
   "outputs": [
    {
     "name": "stdout",
     "output_type": "stream",
     "text": [
      "type of var1 is:  <class 'str'>\n",
      "type of var2 is:  <class 'str'>\n",
      "type of var3 is:  <class 'list'>\n",
      "type of var4 is:  <class 'int'>\n"
     ]
    }
   ],
   "source": [
    "\"\"\" \n",
    "Q2. Given are some following variables containing data:\n",
    "\n",
    "(i)\tvar1 = ‘ ‘\n",
    "\n",
    "(ii)\tvar2 = ‘[ DS , ML , Python]’\n",
    "\n",
    "(iii)\tvar3 = [ ‘DS’ , ’ML’ , ‘Python’ ]\n",
    "\n",
    "(iv)\tvar4 = 1.\n",
    "\n",
    "\n",
    "What will be the data type of the above given variable.\n",
    "\"\"\"\n",
    "var1=''\n",
    "var2='[DS,ML,Python]'\n",
    "var3=['DS' , 'ML' , 'Python']\n",
    "var4=1\n",
    "print(\"type of var1 is: \",type(var1))\n",
    "print(\"type of var2 is: \",type(var2))\n",
    "print(\"type of var3 is: \",type(var3))\n",
    "print(\"type of var4 is: \",type(var4))"
   ]
  },
  {
   "cell_type": "code",
   "execution_count": 6,
   "id": "5407b53b-345a-4e31-a6a7-a715583dd7d7",
   "metadata": {},
   "outputs": [
    {
     "name": "stdout",
     "output_type": "stream",
     "text": [
      "2.5\n",
      "1\n",
      "2\n",
      "25\n"
     ]
    }
   ],
   "source": [
    "\"\"\"\n",
    "Q3. Explain the use of the following operators using an example:\n",
    "\n",
    "(i)\t/\n",
    "\n",
    "(ii)\t% \n",
    "\n",
    "(iii)\t//\n",
    "\n",
    "(iv)\t**\n",
    "\"\"\"\n",
    "# / is a binary operator which gives quotient of operand1 when it is divided by operand2\n",
    "a=5/2\n",
    "print(a)\n",
    "# % is a binary operator which gives remainder of operand1 when it is divided by operand2\n",
    "b=5%2\n",
    "print(b)\n",
    "# // is a binary operator which gives floor value of quotient of operand1 when it is divided by operand2\n",
    "c=5//2\n",
    "print(c)\n",
    "\n",
    "# ** is a binary operator which gives operand1 to power operand2\n",
    "d=5**2\n",
    "print(d)\n"
   ]
  },
  {
   "cell_type": "code",
   "execution_count": 7,
   "id": "19380282-3a08-4744-a317-941a9df1024a",
   "metadata": {},
   "outputs": [
    {
     "name": "stdout",
     "output_type": "stream",
     "text": [
      "type of  12.78  is:  <class 'float'>\n",
      "type of  90  is:  <class 'int'>\n",
      "type of  23  is:  <class 'int'>\n",
      "type of  cat  is:  <class 'str'>\n",
      "type of  dog  is:  <class 'str'>\n",
      "type of  True  is:  <class 'bool'>\n",
      "type of  [12, 32, 11]  is:  <class 'list'>\n",
      "type of  (4, 2, 1)  is:  <class 'tuple'>\n",
      "type of  34.0  is:  <class 'float'>\n",
      "type of  1  is:  <class 'int'>\n"
     ]
    }
   ],
   "source": [
    "\"\"\"\n",
    "Q4. Create a list of length 10 of your choice containing multiple types of data. Using for loop print the \n",
    "element and its data type\n",
    "\n",
    "\"\"\"\n",
    "l=[12.78,90,23,\"cat\",\"dog\",True,[12,32,11],(4,2,1),34.00,1]\n",
    "for i in l:\n",
    "    print(\"type of \",i,\" is: \",type(i))"
   ]
  },
  {
   "cell_type": "code",
   "execution_count": 9,
   "id": "b08fbff5-fe7e-41e2-9d6f-edf347cff185",
   "metadata": {},
   "outputs": [
    {
     "name": "stdin",
     "output_type": "stream",
     "text": [
      "Enter  number A 10\n",
      "Enter  number B 5\n"
     ]
    },
    {
     "name": "stdout",
     "output_type": "stream",
     "text": [
      "It is purely divisble\n",
      "2 times it is divisble\n"
     ]
    }
   ],
   "source": [
    "'''\n",
    "Q5. Using a while loop, verify if the number A is purely divisible by number B and if so then how many \n",
    "times it can be divisible.\n",
    "'''\n",
    "a=int(input(\"Enter  number A\"))\n",
    "b=int(input(\"Enter  number B\"))\n",
    "if a<b:\n",
    "    print(\"It is not divisble\")\n",
    "else:\n",
    "    i=1\n",
    "    while b*i<=a:\n",
    "        if(b*i==a):\n",
    "            print(\"It is purely divisble\")\n",
    "            print(i,\"times it is divisble\")\n",
    "            break\n",
    "        else:\n",
    "            i=i+1\n",
    "    "
   ]
  },
  {
   "cell_type": "code",
   "execution_count": 11,
   "id": "70d161b0-8a14-4b9f-b19c-0c816d3fec4a",
   "metadata": {},
   "outputs": [
    {
     "name": "stdout",
     "output_type": "stream",
     "text": [
      "0 is divisble by 3\n",
      "1 is not divisble by 3\n",
      "2 is not divisble by 3\n",
      "3 is divisble by 3\n",
      "4 is not divisble by 3\n",
      "5 is not divisble by 3\n",
      "6 is divisble by 3\n",
      "7 is not divisble by 3\n",
      "8 is not divisble by 3\n",
      "9 is divisble by 3\n",
      "10 is not divisble by 3\n",
      "11 is not divisble by 3\n",
      "12 is divisble by 3\n",
      "13 is not divisble by 3\n",
      "14 is not divisble by 3\n",
      "15 is divisble by 3\n",
      "16 is not divisble by 3\n",
      "17 is not divisble by 3\n",
      "18 is divisble by 3\n",
      "19 is not divisble by 3\n",
      "20 is not divisble by 3\n",
      "21 is divisble by 3\n",
      "22 is not divisble by 3\n",
      "23 is not divisble by 3\n",
      "24 is divisble by 3\n"
     ]
    }
   ],
   "source": [
    "'''\n",
    "6. Create a list containing 25 int type data. Using for loop and if-else condition print if the element is \n",
    "divisible by 3 or not.\n",
    "'''\n",
    "l=[]\n",
    "for i in range(0,25):\n",
    "    l.append(i)\n",
    "\n",
    "for i in l:\n",
    "    if i%3==0:\n",
    "        print(i,\"is divisble by 3\")\n",
    "    else:\n",
    "        print(i,\"is not divisble by 3\")\n"
   ]
  },
  {
   "cell_type": "code",
   "execution_count": 12,
   "id": "20a516fa-8f54-4c17-83ae-a4efcd8775ec",
   "metadata": {},
   "outputs": [
    {
     "name": "stdout",
     "output_type": "stream",
     "text": [
      "[1, 2, 3, 4]\n",
      "[1, 2, 8, 4]\n"
     ]
    },
    {
     "ename": "TypeError",
     "evalue": "'str' object does not support item assignment",
     "output_type": "error",
     "traceback": [
      "\u001b[0;31m---------------------------------------------------------------------------\u001b[0m",
      "\u001b[0;31mTypeError\u001b[0m                                 Traceback (most recent call last)",
      "Cell \u001b[0;32mIn[12], line 17\u001b[0m\n\u001b[1;32m     14\u001b[0m \u001b[38;5;28mprint\u001b[39m(l1)\n\u001b[1;32m     16\u001b[0m s\u001b[38;5;241m=\u001b[39m\u001b[38;5;124m\"\u001b[39m\u001b[38;5;124mhello\u001b[39m\u001b[38;5;124m\"\u001b[39m\n\u001b[0;32m---> 17\u001b[0m \u001b[43ms\u001b[49m\u001b[43m[\u001b[49m\u001b[38;5;241;43m2\u001b[39;49m\u001b[43m]\u001b[49m\u001b[38;5;241m=\u001b[39m\u001b[38;5;124m'\u001b[39m\u001b[38;5;124mk\u001b[39m\u001b[38;5;124m'\u001b[39m\n\u001b[1;32m     18\u001b[0m \u001b[38;5;28mprint\u001b[39m(s)\n",
      "\u001b[0;31mTypeError\u001b[0m: 'str' object does not support item assignment"
     ]
    }
   ],
   "source": [
    "'''\n",
    "Q7. What do you understand about mutable and immutable data types? Give examples for both showing \n",
    "this property.\n",
    "'''\n",
    "\n",
    "'''\n",
    "Mutable object is a object in which we can change the value of element at a index.eg-list\n",
    "In Immutable object we can't chage value of element at a index eg- string,tuple\n",
    "\n",
    "'''\n",
    "l1=[1,2,3,4]\n",
    "print(l1)\n",
    "l1[2]=8\n",
    "print(l1)\n",
    "\n",
    "s=\"hello\"\n",
    "s[2]='k'\n",
    "print(s)"
   ]
  },
  {
   "cell_type": "code",
   "execution_count": null,
   "id": "f8ce9b31-d719-4f06-95b9-d9c9830d92fb",
   "metadata": {},
   "outputs": [],
   "source": []
  }
 ],
 "metadata": {
  "kernelspec": {
   "display_name": "Python 3 (ipykernel)",
   "language": "python",
   "name": "python3"
  },
  "language_info": {
   "codemirror_mode": {
    "name": "ipython",
    "version": 3
   },
   "file_extension": ".py",
   "mimetype": "text/x-python",
   "name": "python",
   "nbconvert_exporter": "python",
   "pygments_lexer": "ipython3",
   "version": "3.10.8"
  }
 },
 "nbformat": 4,
 "nbformat_minor": 5
}
