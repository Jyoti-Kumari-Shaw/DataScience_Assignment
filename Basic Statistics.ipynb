{
 "cells": [
  {
   "cell_type": "raw",
   "id": "5b318ea8-3b33-42b4-b2f6-2f8fccbb53bb",
   "metadata": {},
   "source": [
    "Q1. What is Statistics?\n",
    "ans- Statistics is the science of collecting ,organising and analyzing the data.Data is facts or piece of information\n",
    " for example, heights of students in a class,number of road accidents in a state.\n"
   ]
  },
  {
   "cell_type": "raw",
   "id": "6e547bf7-99a4-4bf1-bb72-ba4dfb236a6b",
   "metadata": {},
   "source": [
    "Q2. Define the different types of statistics and give an example of when each type might be used.\n",
    "Ans- There are two types of statistics :-\n",
    "i. Descriptive Statistics:- it consists of organising and summarizing data.eg:-average income of a family in a area.\n",
    "\n",
    "ii. Inferential Statistics:- it consists of using data you have measured to form conclusion.example :- predicting results of                                election in state using some sample data.\n"
   ]
  },
  {
   "cell_type": "raw",
   "id": "8f2578e9-7e3c-4949-8cbb-14670aa5fb7e",
   "metadata": {},
   "source": [
    "Q3. What are the different types of data and how do they differ from each other? Provide an example of\n",
    "each type of data.\n",
    "\n",
    "ans:- Mainly There are two different types of data:-\n",
    "i.Quantative Data:- Any data which has numerical value and on which we can perform mathematical operation.Again it is divided \n",
    "                    into two sub category:-\n",
    "                    a.Dicrete Data:- data which is whole number and have some range.example- number of coins in the  pocket,number of bank account a person have\n",
    "                    b.Continuous Data:- Any numerical value.Example- height,weight,speed,area,teperature\n",
    "\n",
    "ii.Qulitative Data:-it is categorical data.Again it is of two type:-\n",
    "                    a.Nominal data:- no rank is associated with any category.example:-blood group\n",
    "                    b.Ordinal data:- Rank is assosiated with each category.example:- customer feedback.\n",
    "\n",
    "  "
   ]
  },
  {
   "cell_type": "raw",
   "id": "56c0c12d-0510-460a-9152-4f766c04ca48",
   "metadata": {},
   "source": [
    "Q4. Categorise the following datasets with respect to quantitative and qualitative data types:\n",
    "(i) Grading in exam: A+, A, B+, B, C+, C, D, E\n",
    "ans:- Qualitative(ordinal)\n",
    "\n",
    "(ii) Colour of mangoes: yellow, green, orange, red\n",
    "ans:- Qualitative(nominal)\n",
    "\n",
    "(iii) Height data of a class: [178.9, 179, 179.5, 176, 177.2, 178.3, 175.8,...]\n",
    "ans:- Quantative(continuos)\n",
    "\n",
    "(iv) Number of mangoes exported by a farm: [500, 600, 478, 672, ...]\n",
    "ans:- Quantative(discrete)"
   ]
  },
  {
   "cell_type": "raw",
   "id": "8c743673-0674-495b-9e21-12ca81f5cf7b",
   "metadata": {},
   "source": [
    "Q5. Explain the concept of levels of measurement and give an example of a variable for each level.\n",
    "\n",
    "ans:- Levels of measurement, also called scales of measurement, tell you how precisely variables are recorded. In scientific research, a variable is anything that can take on different values across your data set (e.g., height or test scores).\n",
    "\n",
    "There are 4 levels of measurement:\n",
    "\n",
    "Nominal: the data can only be categorized.eg:-Marital status\n",
    "Ordinal: the data can be categorized and ranked.eg:-Language ability (e.g., beginner, intermediate, fluent)\n",
    "Interval: the data can be categorized, ranked, and evenly spaced.eg:-Test scores (e.g., IQ or exams)\n",
    "Ratio: the data can be categorized, ranked, evenly spaced, and has a natural zero.eg:-Height\n",
    "\n",
    "Depending on the level of measurement of the variable, what you can do to analyze your data may be limited. There is a hierarchy in the complexity and precision of the level of measurement, from low (nominal) to high (ratio)."
   ]
  },
  {
   "cell_type": "raw",
   "id": "1b285607-5484-4e83-885f-5da80fc3df10",
   "metadata": {},
   "source": [
    "Q6. Why is it important to understand the level of measurement when analyzing data? Provide an\n",
    "example to illustrate your answer.\n",
    "\n",
    "ans:-The level at which you measure a variable determines how you can analyze your data.\n",
    "\n",
    "The different levels limit which descriptive statistics you can use to get an overall summary of your data, and which type of inferential statistics you can perform on your data to support or refute your hypothesis.\n",
    "\n",
    "In many cases, your variables can be measured at different levels, so you have to choose the level of measurement you will use before data collection begins."
   ]
  },
  {
   "cell_type": "raw",
   "id": "8cb6d224-f708-45a5-956c-b6fbca9d3971",
   "metadata": {},
   "source": [
    "Q7. How nominal data type is different from ordinal data type.\n",
    "\n",
    "ans:-Nominal: the data can only be categorized.eg:-Marital status\n",
    "    Ordinal: the data can be categorized and ranked.eg:-Language ability (e.g., beginner, intermediate, fluent)"
   ]
  },
  {
   "cell_type": "raw",
   "id": "6379083f-fd14-4709-bddc-56ec43988958",
   "metadata": {},
   "source": [
    "Q8. Which type of plot can be used to display data in terms of range?\n",
    "ans:- Scatter plot or box plot can be used to display data in terms of range."
   ]
  },
  {
   "cell_type": "raw",
   "id": "583b4d67-3b94-4f88-a3cf-244f3fe37646",
   "metadata": {},
   "source": [
    "Q9. Describe the difference between descriptive and inferential statistics. Give an example of each\n",
    "type of statistics and explain how they are used.\n",
    "\n",
    "ans:-             Desciptive Statistics                            Inferential Statistics\n",
    "---------------------------------------------------------------------------------------------------------------------------\n",
    "                                                     |\n",
    "  1.Describe and summarize data                      |1.Make inferences and draw conclusions about a population based on                                                          |  sample data.\n",
    "----------------------------------------------------------------------------------------------------------------------------   2.Analyzes and interprets the characteristics of a |2.Uses sample data to make generalizations or predictions about a                                                            |   larger population    dataset \n",
    "----------------------------------------------------------------------------------------------------------------------------   3.  Focuses on the entire population or dataset    |   3.Focuses on a subset of the population (sample) to draw conclusions                                                      |    about the entire population                                        \n",
    "-----------------------------------------------------------------------------------------------------------------------------   4.examples are Mean, median, mode, standard        |  4.examples areHypothesis testing, confidence intervals, regression       deviation, range, frequency tables               |      analysis, ANOVA (analysis of variance),chi-square tests, t-tests.\n",
    "    "
   ]
  },
  {
   "cell_type": "raw",
   "id": "a8028688-5586-4da1-94fc-b5416c797aef",
   "metadata": {},
   "source": [
    "Q10. What are some common measures of central tendency and variability used in statistics? Explain\n",
    "how each measure can be used to describe a dataset.\n",
    "\n",
    "ans:-The central tendency of the dataset can be found out using the three important measures namely mean, median and mode.\n",
    "        \n",
    "Mean:-The mean represents the average value of the dataset. It can be calculated as the sum of all the values in the      dataset divided by the number of values. In general, it is considered as the arithmetic mean.\n",
    "In symmetric data distribution, the mean value is located accurately at the centre. But in the skewed continuous data distribution, the extreme values in the extended tail pull the mean value away from the centre.\n",
    "\n",
    "Median:-Median is the middle value of the dataset in which the dataset is arranged in the ascending order or in descending order. When the dataset contains an even number of values, then the median value of the dataset can be found by taking the mean of the middle two values.\n",
    "If you have skewed distribution, the best measure of finding the central tendency is the median.\n",
    "\n",
    "Mode:-The mode represents the frequently occurring value in the dataset. Sometimes the dataset may contain multiple modes and in some cases, it does not contain any mode at all.\n",
    "If you have categorical data, the mode is the best choice to find the central tendency."
   ]
  }
 ],
 "metadata": {
  "kernelspec": {
   "display_name": "Python 3 (ipykernel)",
   "language": "python",
   "name": "python3"
  },
  "language_info": {
   "codemirror_mode": {
    "name": "ipython",
    "version": 3
   },
   "file_extension": ".py",
   "mimetype": "text/x-python",
   "name": "python",
   "nbconvert_exporter": "python",
   "pygments_lexer": "ipython3",
   "version": "3.10.8"
  }
 },
 "nbformat": 4,
 "nbformat_minor": 5
}
